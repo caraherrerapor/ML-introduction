{
  "nbformat": 4,
  "nbformat_minor": 0,
  "metadata": {
    "colab": {
      "name": "regresionLineal.ipynb",
      "provenance": [],
      "authorship_tag": "ABX9TyPXUDdpMI5VXI/3C3YUjpKo"
    },
    "kernelspec": {
      "name": "python3",
      "display_name": "Python 3"
    }
  },
  "cells": [
    {
      "cell_type": "code",
      "metadata": {
        "id": "tzTVWv4DFu_N"
      },
      "source": [
        "import torch\n",
        "import numpy as np\n",
        "import torch.nn as nn\n",
        "import torch.optim as optim\n",
        "import matplotlib.pyplot as plt"
      ],
      "execution_count": 1,
      "outputs": []
    },
    {
      "cell_type": "code",
      "metadata": {
        "colab": {
          "base_uri": "https://localhost:8080/",
          "height": 282
        },
        "id": "OdDy9DXCGtQz",
        "outputId": "4377c285-1aea-41d0-f12b-d7e622c99391"
      },
      "source": [
        "car_prices = [1,2,3,4,5,6,7]\n",
        "unit_solds = [9,8,7,6,5,4,3]\n",
        "plt.scatter(car_prices,unit_solds)"
      ],
      "execution_count": 2,
      "outputs": [
        {
          "output_type": "execute_result",
          "data": {
            "text/plain": [
              "<matplotlib.collections.PathCollection at 0x7f7438c50a58>"
            ]
          },
          "metadata": {
            "tags": []
          },
          "execution_count": 2
        },
        {
          "output_type": "display_data",
          "data": {
            "image/png": "[encoded data removed]",
            "text/plain": [
              "<Figure size 432x288 with 1 Axes>"
            ]
          },
          "metadata": {
            "tags": [],
            "needs_background": "light"
          }
        }
      ]
    },
    {
      "cell_type": "code",
      "metadata": {
        "colab": {
          "base_uri": "https://localhost:8080/"
        },
        "id": "ucOzBQnEHKlH",
        "outputId": "fcb84efb-03ee-49ff-a8c7-9a3aeb19e011"
      },
      "source": [
        "prices_array =np.array(car_prices).reshape(-1,1)\n",
        "units_array =np.array(unit_solds).reshape(-1,1)\n",
        "prices_array\n",
        "units_array"
      ],
      "execution_count": 7,
      "outputs": [
        {
          "output_type": "execute_result",
          "data": {
            "text/plain": [
              "array([[9],\n",
              "       [8],\n",
              "       [7],\n",
              "       [6],\n",
              "       [5],\n",
              "       [4],\n",
              "       [3]])"
            ]
          },
          "metadata": {
            "tags": []
          },
          "execution_count": 7
        }
      ]
    },
    {
      "cell_type": "code",
      "metadata": {
        "colab": {
          "base_uri": "https://localhost:8080/"
        },
        "id": "RAR03iH2HcFg",
        "outputId": "b24fe511-af4a-47e2-ef7b-305aefd213f2"
      },
      "source": [
        "prices = torch.from_numpy(prices_array).float().requires_grad_(True)\n",
        "units = torch.from_numpy(units_array).float()\n",
        "prices,prices.shape"
      ],
      "execution_count": 13,
      "outputs": [
        {
          "output_type": "execute_result",
          "data": {
            "text/plain": [
              "(tensor([[1.],\n",
              "         [2.],\n",
              "         [3.],\n",
              "         [4.],\n",
              "         [5.],\n",
              "         [6.],\n",
              "         [7.]], requires_grad=True), torch.Size([7, 1]))"
            ]
          },
          "metadata": {
            "tags": []
          },
          "execution_count": 13
        }
      ]
    },
    {
      "cell_type": "code",
      "metadata": {
        "colab": {
          "base_uri": "https://localhost:8080/",
          "height": 300
        },
        "id": "NqaUana2IHVu",
        "outputId": "9a9f40db-0af3-4320-e711-f4aa1ca88b75"
      },
      "source": [
        "#crear modelo\n",
        "model = nn.Linear(1,1)\n",
        "loss_function = nn.MSELoss()\n",
        "optimizer = optim.SGD(model.parameters(),lr=0.015)\n",
        "losses = []\n",
        "iterations = 2000\n",
        "for i in range(iterations):\n",
        "  pred = model(prices)\n",
        "  loss = loss_function(pred,units)\n",
        "  losses.append(loss.data)\n",
        "  optimizer.zero_grad()\n",
        "  loss.backward()\n",
        "  optimizer.step()\n",
        "print(loss)\n",
        "plt.plot(range(iterations),losses)\n"
      ],
      "execution_count": 17,
      "outputs": [
        {
          "output_type": "stream",
          "text": [
            "tensor(1.9238e-09, grad_fn=<MseLossBackward>)\n"
          ],
          "name": "stdout"
        },
        {
          "output_type": "execute_result",
          "data": {
            "text/plain": [
              "[<matplotlib.lines.Line2D at 0x7f7437acdb70>]"
            ]
          },
          "metadata": {
            "tags": []
          },
          "execution_count": 17
        },
        {
          "output_type": "display_data",
          "data": {
            "image/png": "[encoded data removed]",
            "text/plain": [
              "<Figure size 432x288 with 1 Axes>"
            ]
          },
          "metadata": {
            "tags": [],
            "needs_background": "light"
          }
        }
      ]
    },
    {
      "cell_type": "code",
      "metadata": {
        "id": "s90w5e90KD31"
      },
      "source": [
        ""
      ],
      "execution_count": null,
      "outputs": []
    }
  ]
}