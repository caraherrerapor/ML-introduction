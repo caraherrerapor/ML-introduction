{
  "nbformat": 4,
  "nbformat_minor": 0,
  "metadata": {
    "colab": {
      "name": "clase2.ipynb",
      "provenance": [],
      "collapsed_sections": [],
      "authorship_tag": "ABX9TyPvkq8fZVbVABJulUa6lwij",
      "include_colab_link": true
    },
    "kernelspec": {
      "name": "python3",
      "display_name": "Python 3"
    }
  },
  "cells": [
    {
      "cell_type": "markdown",
      "metadata": {
        "id": "view-in-github",
        "colab_type": "text"
      },
      "source": [
        "<a href=\"https://colab.research.google.com/github/caraherrerapor/ML-introduction/blob/master/clase2.ipynb\" target=\"_parent\"><img src=\"https://colab.research.google.com/assets/colab-badge.svg\" alt=\"Open In Colab\"/></a>"
      ]
    },
    {
      "cell_type": "code",
      "metadata": {
        "id": "KZi524eLegu2"
      },
      "source": [
        "import torch\n",
        "import numpy as np"
      ],
      "execution_count": null,
      "outputs": []
    },
    {
      "cell_type": "markdown",
      "metadata": {
        "id": "HpKOmg9ofDl4"
      },
      "source": [
        "trabajando con tensores"
      ]
    },
    {
      "cell_type": "code",
      "metadata": {
        "colab": {
          "base_uri": "https://localhost:8080/",
          "height": 36
        },
        "id": "OZ7wNjvAfG0l",
        "outputId": "f8a7af2c-5cb4-44b2-fff5-7e41cab26961"
      },
      "source": [
        "torch.__version__"
      ],
      "execution_count": null,
      "outputs": [
        {
          "output_type": "execute_result",
          "data": {
            "application/vnd.google.colaboratory.intrinsic+json": {
              "type": "string"
            },
            "text/plain": [
              "'1.7.0+cu101'"
            ]
          },
          "metadata": {
            "tags": []
          },
          "execution_count": 3
        }
      ]
    },
    {
      "cell_type": "code",
      "metadata": {
        "colab": {
          "base_uri": "https://localhost:8080/"
        },
        "id": "tzg_WaAcfT49",
        "outputId": "af8a7e68-0ac2-4cf3-eb09-8188b1876420"
      },
      "source": [
        "tensor_a = torch.ones(2,2)\n",
        "tensor_a"
      ],
      "execution_count": null,
      "outputs": [
        {
          "output_type": "execute_result",
          "data": {
            "text/plain": [
              "tensor([[1., 1.],\n",
              "        [1., 1.]])"
            ]
          },
          "metadata": {
            "tags": []
          },
          "execution_count": 4
        }
      ]
    },
    {
      "cell_type": "code",
      "metadata": {
        "colab": {
          "base_uri": "https://localhost:8080/"
        },
        "id": "QpLMeI8sfw_f",
        "outputId": "4be0462b-1f19-491f-ceae-761904b08e5e"
      },
      "source": [
        "tensor_b = torch.Tensor(2,2)\n",
        "print(tensor_b)\n",
        "tensor_b.uniform_(0,1)"
      ],
      "execution_count": null,
      "outputs": [
        {
          "output_type": "stream",
          "text": [
            "tensor([[1.2613e-35, 0.0000e+00],\n",
            "        [1.5414e-43, 1.6115e-43]])\n"
          ],
          "name": "stdout"
        },
        {
          "output_type": "execute_result",
          "data": {
            "text/plain": [
              "tensor([[0.2604, 0.3347],\n",
              "        [0.3828, 0.9884]])"
            ]
          },
          "metadata": {
            "tags": []
          },
          "execution_count": 8
        }
      ]
    },
    {
      "cell_type": "code",
      "metadata": {
        "colab": {
          "base_uri": "https://localhost:8080/"
        },
        "id": "qQVgpmPtf2af",
        "outputId": "63d7d181-cf27-4bcc-f535-fa8dfa13e997"
      },
      "source": [
        "tensor_c = torch.rand(2,2)\n",
        "print(tensor_c)"
      ],
      "execution_count": null,
      "outputs": [
        {
          "output_type": "stream",
          "text": [
            "tensor([[0.9711, 0.4419],\n",
            "        [0.8053, 0.1061]])\n"
          ],
          "name": "stdout"
        }
      ]
    },
    {
      "cell_type": "code",
      "metadata": {
        "colab": {
          "base_uri": "https://localhost:8080/"
        },
        "id": "TSC6LT0MgLU5",
        "outputId": "2012dcce-e6c6-4b7d-8987-204911b36370"
      },
      "source": [
        "result = tensor_b + tensor_c\n",
        "print(result)"
      ],
      "execution_count": null,
      "outputs": [
        {
          "output_type": "stream",
          "text": [
            "tensor([[1.2315, 0.7765],\n",
            "        [1.1881, 1.0944]])\n"
          ],
          "name": "stdout"
        }
      ]
    },
    {
      "cell_type": "code",
      "metadata": {
        "colab": {
          "base_uri": "https://localhost:8080/"
        },
        "id": "INZ76fRzgRZo",
        "outputId": "d770fa8d-de08-48df-fb6d-e15acc430cb4"
      },
      "source": [
        "# el comando shape me sirver  cuando el tensor es muy grande\n",
        "result.shape\n",
        "reshaped = result.view(4,1)\n",
        "reshaped"
      ],
      "execution_count": null,
      "outputs": [
        {
          "output_type": "execute_result",
          "data": {
            "text/plain": [
              "tensor([[1.2315],\n",
              "        [0.7765],\n",
              "        [1.1881],\n",
              "        [1.0944]])"
            ]
          },
          "metadata": {
            "tags": []
          },
          "execution_count": 14
        }
      ]
    },
    {
      "cell_type": "code",
      "metadata": {
        "colab": {
          "base_uri": "https://localhost:8080/"
        },
        "id": "b6D-UdtngWNA",
        "outputId": "f9cea07d-a3c5-4007-a941-df2a46e5d21b"
      },
      "source": [
        "points = torch.tensor([[1,3],[4.0,6],[4,5]])\n",
        "print(points)\n",
        "points[0][1]=2.5\n",
        "print(points)\n",
        "points.storage()\n"
      ],
      "execution_count": 19,
      "outputs": [
        {
          "output_type": "stream",
          "text": [
            "tensor([[1., 3.],\n",
            "        [4., 6.],\n",
            "        [4., 5.]])\n",
            "tensor([[1.0000, 2.5000],\n",
            "        [4.0000, 6.0000],\n",
            "        [4.0000, 5.0000]])\n"
          ],
          "name": "stdout"
        },
        {
          "output_type": "execute_result",
          "data": {
            "text/plain": [
              " 1.0\n",
              " 2.5\n",
              " 4.0\n",
              " 6.0\n",
              " 4.0\n",
              " 5.0\n",
              "[torch.FloatStorage of size 6]"
            ]
          },
          "metadata": {
            "tags": []
          },
          "execution_count": 19
        }
      ]
    },
    {
      "cell_type": "code",
      "metadata": {
        "id": "NLs-lHhlj2k-",
        "colab": {
          "base_uri": "https://localhost:8080/"
        },
        "outputId": "4144ea0c-a7e3-4471-c0cc-89b8601d267b"
      },
      "source": [
        "points,points.stride()"
      ],
      "execution_count": 21,
      "outputs": [
        {
          "output_type": "execute_result",
          "data": {
            "text/plain": [
              "(tensor([[1.0000, 2.5000],\n",
              "         [4.0000, 6.0000],\n",
              "         [4.0000, 5.0000]]), (2, 1))"
            ]
          },
          "metadata": {
            "tags": []
          },
          "execution_count": 21
        }
      ]
    },
    {
      "cell_type": "code",
      "metadata": {
        "colab": {
          "base_uri": "https://localhost:8080/"
        },
        "id": "6A-9EZn6lV6g",
        "outputId": "bf95a5d1-e7bb-4f25-9f44-0ad5cb303af0"
      },
      "source": [
        "#t() -> trasponer\n",
        "p_t = points.t()\n",
        "p_t, p_t.stride()"
      ],
      "execution_count": 24,
      "outputs": [
        {
          "output_type": "execute_result",
          "data": {
            "text/plain": [
              "(tensor([[1.0000, 4.0000, 4.0000],\n",
              "         [2.5000, 6.0000, 5.0000]]), (1, 2))"
            ]
          },
          "metadata": {
            "tags": []
          },
          "execution_count": 24
        }
      ]
    },
    {
      "cell_type": "code",
      "metadata": {
        "colab": {
          "base_uri": "https://localhost:8080/"
        },
        "id": "sZ-nmrRHlqwe",
        "outputId": "10939978-baec-4b6e-dd03-0adf109de7f6"
      },
      "source": [
        "#unsqueeze le da una dimension as\n",
        "tensor_x = torch.tensor([1,2,3,4])\n",
        "tensor_x,torch.unsqueeze(tensor_x,0)\n",
        "tensor_x,torch.unsqueeze(tensor_x,1)\n"
      ],
      "execution_count": 29,
      "outputs": [
        {
          "output_type": "execute_result",
          "data": {
            "text/plain": [
              "(tensor([1, 2, 3, 4]), tensor([[1],\n",
              "         [2],\n",
              "         [3],\n",
              "         [4]]))"
            ]
          },
          "metadata": {
            "tags": []
          },
          "execution_count": 29
        }
      ]
    },
    {
      "cell_type": "code",
      "metadata": {
        "colab": {
          "base_uri": "https://localhost:8080/"
        },
        "id": "OHk8J9gPm6FY",
        "outputId": "8dad358a-122e-471a-83de-7ab4e8f3efab"
      },
      "source": [
        "import numpy as np\n",
        "numpyArray = np.random.randn(2,2)\n",
        "numpyArray,torch.from_numpy(numpyArray)"
      ],
      "execution_count": 34,
      "outputs": [
        {
          "output_type": "execute_result",
          "data": {
            "text/plain": [
              "(array([[ 0.59885462,  0.75604909],\n",
              "        [-0.28265479, -0.47989426]]), tensor([[ 0.5989,  0.7560],\n",
              "         [-0.2827, -0.4799]], dtype=torch.float64))"
            ]
          },
          "metadata": {
            "tags": []
          },
          "execution_count": 34
        }
      ]
    },
    {
      "cell_type": "code",
      "metadata": {
        "id": "eQQfy_-Ur2u9"
      },
      "source": [
        ""
      ],
      "execution_count": null,
      "outputs": []
    }
  ]
}