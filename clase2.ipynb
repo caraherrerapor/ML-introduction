{
  "nbformat": 4,
  "nbformat_minor": 0,
  "metadata": {
    "colab": {
      "name": "clase2.ipynb",
      "provenance": [],
      "authorship_tag": "ABX9TyOk3UA1ltg8QH+63JiUFz0w",
      "include_colab_link": true
    },
    "kernelspec": {
      "name": "python3",
      "display_name": "Python 3"
    }
  },
  "cells": [
    {
      "cell_type": "markdown",
      "metadata": {
        "id": "view-in-github",
        "colab_type": "text"
      },
      "source": [
        "<a href=\"https://colab.research.google.com/github/caraherrerapor/ML-introduction/blob/master/clase2.ipynb\" target=\"_parent\"><img src=\"https://colab.research.google.com/assets/colab-badge.svg\" alt=\"Open In Colab\"/></a>"
      ]
    },
    {
      "cell_type": "code",
      "metadata": {
        "id": "KZi524eLegu2"
      },
      "source": [
        "import torch"
      ],
      "execution_count": 1,
      "outputs": []
    },
    {
      "cell_type": "markdown",
      "metadata": {
        "id": "HpKOmg9ofDl4"
      },
      "source": [
        "trabajando con tensores"
      ]
    },
    {
      "cell_type": "code",
      "metadata": {
        "colab": {
          "base_uri": "https://localhost:8080/",
          "height": 36
        },
        "id": "OZ7wNjvAfG0l",
        "outputId": "f8a7af2c-5cb4-44b2-fff5-7e41cab26961"
      },
      "source": [
        "torch.__version__"
      ],
      "execution_count": 3,
      "outputs": [
        {
          "output_type": "execute_result",
          "data": {
            "application/vnd.google.colaboratory.intrinsic+json": {
              "type": "string"
            },
            "text/plain": [
              "'1.7.0+cu101'"
            ]
          },
          "metadata": {
            "tags": []
          },
          "execution_count": 3
        }
      ]
    },
    {
      "cell_type": "code",
      "metadata": {
        "colab": {
          "base_uri": "https://localhost:8080/"
        },
        "id": "tzg_WaAcfT49",
        "outputId": "af8a7e68-0ac2-4cf3-eb09-8188b1876420"
      },
      "source": [
        "tensor_a = torch.ones(2,2)\n",
        "tensor_a"
      ],
      "execution_count": 4,
      "outputs": [
        {
          "output_type": "execute_result",
          "data": {
            "text/plain": [
              "tensor([[1., 1.],\n",
              "        [1., 1.]])"
            ]
          },
          "metadata": {
            "tags": []
          },
          "execution_count": 4
        }
      ]
    },
    {
      "cell_type": "code",
      "metadata": {
        "colab": {
          "base_uri": "https://localhost:8080/"
        },
        "id": "QpLMeI8sfw_f",
        "outputId": "4be0462b-1f19-491f-ceae-761904b08e5e"
      },
      "source": [
        "tensor_b = torch.Tensor(2,2)\n",
        "print(tensor_b)\n",
        "tensor_b.uniform_(0,1)"
      ],
      "execution_count": 8,
      "outputs": [
        {
          "output_type": "stream",
          "text": [
            "tensor([[1.2613e-35, 0.0000e+00],\n",
            "        [1.5414e-43, 1.6115e-43]])\n"
          ],
          "name": "stdout"
        },
        {
          "output_type": "execute_result",
          "data": {
            "text/plain": [
              "tensor([[0.2604, 0.3347],\n",
              "        [0.3828, 0.9884]])"
            ]
          },
          "metadata": {
            "tags": []
          },
          "execution_count": 8
        }
      ]
    },
    {
      "cell_type": "code",
      "metadata": {
        "colab": {
          "base_uri": "https://localhost:8080/"
        },
        "id": "qQVgpmPtf2af",
        "outputId": "63d7d181-cf27-4bcc-f535-fa8dfa13e997"
      },
      "source": [
        "tensor_c = torch.rand(2,2)\n",
        "print(tensor_c)"
      ],
      "execution_count": 10,
      "outputs": [
        {
          "output_type": "stream",
          "text": [
            "tensor([[0.9711, 0.4419],\n",
            "        [0.8053, 0.1061]])\n"
          ],
          "name": "stdout"
        }
      ]
    },
    {
      "cell_type": "code",
      "metadata": {
        "colab": {
          "base_uri": "https://localhost:8080/"
        },
        "id": "TSC6LT0MgLU5",
        "outputId": "2012dcce-e6c6-4b7d-8987-204911b36370"
      },
      "source": [
        "result = tensor_b + tensor_c\n",
        "print(result)"
      ],
      "execution_count": 12,
      "outputs": [
        {
          "output_type": "stream",
          "text": [
            "tensor([[1.2315, 0.7765],\n",
            "        [1.1881, 1.0944]])\n"
          ],
          "name": "stdout"
        }
      ]
    },
    {
      "cell_type": "code",
      "metadata": {
        "colab": {
          "base_uri": "https://localhost:8080/"
        },
        "id": "INZ76fRzgRZo",
        "outputId": "d770fa8d-de08-48df-fb6d-e15acc430cb4"
      },
      "source": [
        "# el comando shape me sirver  cuando el tensor es muy grande\n",
        "result.shape\n",
        "reshaped = result.view(4,1)\n",
        "reshaped"
      ],
      "execution_count": 14,
      "outputs": [
        {
          "output_type": "execute_result",
          "data": {
            "text/plain": [
              "tensor([[1.2315],\n",
              "        [0.7765],\n",
              "        [1.1881],\n",
              "        [1.0944]])"
            ]
          },
          "metadata": {
            "tags": []
          },
          "execution_count": 14
        }
      ]
    },
    {
      "cell_type": "code",
      "metadata": {
        "id": "b6D-UdtngWNA"
      },
      "source": [
        "points = torch.tensor()"
      ],
      "execution_count": null,
      "outputs": []
    }
  ]
}